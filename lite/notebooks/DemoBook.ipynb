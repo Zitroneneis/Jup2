{
  "cells": [
    {
      "cell_type": "markdown",
      "id": "edbf0f8d-b43e-4304-b315-01b06656c605",
      "metadata": {
        "trusted": true
      },
      "source": [
        "# Let's try Jupyter Notebooks!\n",
        "\n",
        "First, when you press RUN, we'll create a randomly sized rectangle with a random color for you! Press run and try it out!\n",
        "\n",
        "*Note: This cell, and the next code cell aren't editable, just run it and see what happens!*"
      ]
    },
    {
      "cell_type": "code",
      "execution_count": null,
      "id": "450fc155",
      "metadata": {},
      "outputs": [],
      "source": [
        "import matplotlib.pyplot as plt\n",
        "import numpy as np\n",
        "import random\n",
        "\n",
        "# Generate random dimensions and color\n",
        "length = random.randint(3, 10)\n",
        "width = random.randint(3, 10)\n",
        "color = random.choice(['red', 'blue', 'green', 'purple', 'orange'])\n",
        "\n",
        "# Create a rectangle\n",
        "fig, ax = plt.subplots(figsize=(8, 6))\n",
        "rectangle = plt.Rectangle((0, 0), length, width, color=color)\n",
        "ax.add_patch(rectangle)\n",
        "ax.set_xlim(-1, length+1)\n",
        "ax.set_ylim(-1, width+1)\n",
        "ax.set_aspect('equal')\n",
        "ax.grid(False)\n",
        "plt.title(f\"A {color} rectangle with length {length} and width {width}\")\n",
        "plt.show()"
      ]
    },
    {
      "cell_type": "markdown",
      "id": "f0785c94",
      "metadata": {},
      "source": [
        "## We just made a shape for you! \n",
        "\n",
        "Now let's do something with it\n",
        "\n",
        "In the next cell, you'll edit some code!  \n",
        "Look for `\"Your Name Goes Here\"` and change it to ... Your name!  \n",
        "*Hint: Make sure to keep the \"Quotes\" before and after your name!*"
      ]
    },
    {
      "cell_type": "code",
      "execution_count": null,
      "id": "b03b82be",
      "metadata": {},
      "outputs": [],
      "source": [
        "# Add your name to the line below this!\n",
        "user_name = \"Your Name Goes Here\"\n",
        "\n",
        "# When you run the code, we'll print out a greeting to you!\n",
        "print(f\"Hello, {user_name}!\")"
      ]
    },
    {
      "cell_type": "markdown",
      "id": "b6bc2a98",
      "metadata": {},
      "source": [
        "# Now let's do something fun with your name!\n",
        "\n",
        "You edited a code block! Now let's combine it with your special shape! Run the next blcok to see what happens!"
      ]
    },
    {
      "cell_type": "code",
      "execution_count": null,
      "id": "a8c9203e",
      "metadata": {},
      "outputs": [],
      "source": [
        "# Recreate the chart with the user's name\n",
        "fig, ax = plt.subplots(figsize=(8, 6))\n",
        "rectangle = plt.Rectangle((0, 0), length, width, color=color)\n",
        "ax.add_patch(rectangle)\n",
        "ax.set_xlim(-1, length+1)\n",
        "ax.set_ylim(-1, width+1)\n",
        "ax.set_aspect('equal')\n",
        "ax.grid(False)\n",
        "plt.title(f\"{user_name}'s Special Shape\")\n",
        "plt.show()"
      ]
    },
    {
      "cell_type": "markdown",
      "id": "43ccb49b",
      "metadata": {},
      "source": [
        "# All done!\n",
        "\n",
        "![BongoBMO](BongoBMO.gif)\n",
        "\n",
        "You used a Jupyter Notebook lesson!"
      ]
    }
  ],
  "metadata": {
    "kernelspec": {
      "display_name": "Python 3",
      "language": "python",
      "name": "python3"
    },
    "language_info": {
      "codemirror_mode": {
        "name": "ipython",
        "version": 3
      },
      "file_extension": ".py",
      "mimetype": "text/x-python",
      "name": "python",
      "nbconvert_exporter": "python",
      "pygments_lexer": "ipython3",
      "version": "3.13.1"
    }
  },
  "nbformat": 4,
  "nbformat_minor": 5
}
