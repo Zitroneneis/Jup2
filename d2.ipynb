{
 "cells": [
  {
   "cell_type": "markdown",
   "id": "6688a071",
   "metadata": {},
   "source": [
    "# Python Coding Fundamentals Mini Lesson\n",
    "\n",
    "Welcome to this interactive Python lesson. In this notebook, you'll learn how to edit code and markdown cells. Feel free to experiment with the content and see how changes affect the output."
   ]
  },
  {
   "cell_type": "markdown",
   "id": "33eca025",
   "metadata": {},
   "source": [
    "## Instructions\n",
    "\n",
    "1. **Code Editing Task:** Edit the following code cell to print your name instead of `[MY NAME GOES HERE]`.\n",
    "2. **Markdown Editing Task:** Answer the question in the blank markdown cell that follows this instruction.\n",
    "3. **Code Completion Task:** Complete the partially written function so that it correctly returns the sum of two numbers."
   ]
  },
  {
   "cell_type": "code",
   "execution_count": null,
   "id": "14d4f4d4",
   "metadata": {},
   "outputs": [],
   "source": [
    "# Code Editing Task:\n",
    "print(\"Hello world, my name is [MY NAME GOES HERE]\")\n",
    "\n",
    "# Hint: Replace [MY NAME GOES HERE] with your actual name and run the cell."
   ]
  },
  {
   "cell_type": "markdown",
   "id": "8e9653cc",
   "metadata": {},
   "source": [
    "### Question:\n",
    "\n",
    "What is your favorite programming language and why? (Answer in the next markdown cell)"
   ]
  },
  {
   "cell_type": "markdown",
   "id": "bcc2261d",
   "metadata": {},
   "source": [
    "Your answer here..."
   ]
  },
  {
   "cell_type": "code",
   "execution_count": null,
   "id": "3aeac891",
   "metadata": {},
   "outputs": [],
   "source": [
    "# Code Completion Task:\n",
    "def add_two_numbers(a, b):\n",
    "    # TODO: Complete this function to return the sum of a and b\n",
    "    # Remove the 'pass' statement and implement your solution\n",
    "    pass\n",
    "\n",
    "# Test the function by printing the sum of 10 and 5.\n",
    "result = add_two_numbers(10, 5)\n",
    "print(\"The sum is:\", result)\n",
    "\n",
    "# Expected output: The sum is: 15"
   ]
  },
  {
   "cell_type": "markdown",
   "id": "ae7471ea",
   "metadata": {},
   "source": [
    "### Final Instructions\n",
    "\n",
    "Make sure to run all cells after editing. Review your answers and check the outputs. This demo shows how Jupyter Notebook can be used for interactive learning and coding exercises."
   ]
  }
 ],
 "metadata": {
  "kernelspec": {
   "display_name": "Python 3",
   "language": "python",
   "name": "python3"
  },
  "language_info": {
   "file_extension": ".py",
   "mimetype": "text/x-python",
   "name": "python",
   "version": "3.x"
  }
 },
 "nbformat": 4,
 "nbformat_minor": 5
}
